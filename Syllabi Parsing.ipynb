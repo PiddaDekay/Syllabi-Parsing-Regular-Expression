{
 "cells": [
  {
   "cell_type": "markdown",
   "metadata": {},
   "source": [
    "# Syllabi Parsing"
   ]
  },
  {
   "cell_type": "markdown",
   "metadata": {},
   "source": [
    "By author: Mingfei Ma<br>\n",
    "Data: 1/31/2021"
   ]
  },
  {
   "cell_type": "code",
   "execution_count": 1,
   "metadata": {},
   "outputs": [],
   "source": [
    "import pandas as pd\n",
    "import re\n",
    "import PyPDF2\n",
    "import os"
   ]
  },
  {
   "cell_type": "markdown",
   "metadata": {},
   "source": [
    "## Define a function to catch all features"
   ]
  },
  {
   "cell_type": "code",
   "execution_count": 19,
   "metadata": {},
   "outputs": [],
   "source": [
    "def syllabus_characteristics(content):\n",
    "    feature = dict()\n",
    "    \n",
    "    #1.instructor name\n",
    "    i_name = re.compile(\"[A-Za-z]+((\\s)+([A-Za-z])+)\")\n",
    "    match = i_name.search(content)\n",
    "    if match:\n",
    "        feature[\"name\"]= match.group()    \n",
    "    else:\n",
    "        feature[\"name\"]=\"no searches\"\n",
    "        \n",
    "    #2.instructor email\n",
    "    address = re.compile(\"[a-zA-Z0-9_-]+@[a-zA-Z0-9_-]+(\\.[a-zA-Z0-9_-]+)\")\n",
    "    match = address.search(content)\n",
    "    if match:\n",
    "        feature[\"Emails\"]= match.group()\n",
    "    else:\n",
    "        feature[\"Emails\"]=\"no searches\"        \n",
    "        \n",
    "    #3.phone number\n",
    "    phone_number = re.compile(\"([1-9]\\d{9})|([1-9]\\d{2}-\\d{3}-\\d{4})\")\n",
    "    match = phone_number.search(content)\n",
    "    if match:\n",
    "        feature[\"phone number\"]= match.group()\n",
    "    else:\n",
    "        feature[\"phone number\"]=\"no searches\"        \n",
    "    #4.instructor office hour\n",
    "    office_hour = re.compile(\"Mounday|Tuesday|Wednesday|Thursday|Friday|Saturday|Sunday\")\n",
    "    match = office_hour.search(content)\n",
    "    if match:\n",
    "        feature[\"office_hour\"]= match.group()\n",
    "    else:\n",
    "        feature[\"office_hour\"]=\"no searches\"  \n",
    "    #5.Schedule\n",
    "    schedule = re.compile(\"(([0-1]?[0-9]):[0-5][0-9]\\n\\-([0-1]?[0-9]):[0-5][0-9])\\s+[a-z]m\")\n",
    "    match = schedule.search(content)\n",
    "    if match:\n",
    "        feature[\"Schedule\"]= match.group()    \n",
    "    else:\n",
    "        feature[\"Schedule\"]=\"no searches\"\n",
    "    #6.assignments number\n",
    "    a_number = re.compile(\"[0-9]+\\s+assignments\")\n",
    "    match = a_number.search(content)\n",
    "    if match:\n",
    "        feature[\"assignments number\"]= match.group() \n",
    "    else:\n",
    "        feature[\"assignments number\"]=\"no searches\"        \n",
    "    #7.whether exam needed\n",
    "    if re.search(\"exam\", content.lower(), re.IGNORECASE):\n",
    "        feature[\"exam\"]= \"Yes\"\n",
    "    else:\n",
    "        feature[\"exam\"]= \"No\"\n",
    "    #8.Whether prerequisites\n",
    "\n",
    "    if re.search(\"prerequisite\", content.lower(), re.IGNORECASE):\n",
    "        feature[\"prerequisite\"]= \"Yes\"\n",
    "    else:\n",
    "        feature[\"prerequisite\"]= \"No\"        \n",
    "    #9.Whether textbook needed\n",
    "    if re.search(\"textbook\", content.lower(), re.IGNORECASE):\n",
    "        feature[\"textbook\"]= \"Yes\"\n",
    "    else:\n",
    "        feature[\"textbook\"]= \"No\"        \n",
    "    #10.Type of class\n",
    "    if re.search(\"online\", content.lower(), re.IGNORECASE):\n",
    "        feature[\"online\"]= \"Yes\"\n",
    "    else:\n",
    "        feature[\"online\"]= \"No\"        \n",
    "    return(feature)"
   ]
  },
  {
   "cell_type": "markdown",
   "metadata": {},
   "source": [
    "## Creat an empty dataframe in order to recieve features"
   ]
  },
  {
   "cell_type": "code",
   "execution_count": 20,
   "metadata": {},
   "outputs": [],
   "source": [
    "features_retrieved = pd.DataFrame()"
   ]
  },
  {
   "cell_type": "markdown",
   "metadata": {},
   "source": [
    "## Read files and extract features"
   ]
  },
  {
   "cell_type": "code",
   "execution_count": 21,
   "metadata": {},
   "outputs": [],
   "source": [
    "files= os.listdir(\"syllabi/\")"
   ]
  },
  {
   "cell_type": "code",
   "execution_count": 22,
   "metadata": {},
   "outputs": [],
   "source": [
    "flst=[]\n",
    "for file in files:\n",
    "    if os.path.splitext(file)[1] == \".pdf\":\n",
    "        flst.append(file)"
   ]
  },
  {
   "cell_type": "code",
   "execution_count": 23,
   "metadata": {},
   "outputs": [],
   "source": [
    "flst=[\"syllabi/\"+f for f in flst]"
   ]
  },
  {
   "cell_type": "code",
   "execution_count": 24,
   "metadata": {},
   "outputs": [
    {
     "data": {
      "text/plain": [
       "['syllabi/s2.pdf', 'syllabi/s3.pdf', 'syllabi/s1.pdf']"
      ]
     },
     "execution_count": 24,
     "metadata": {},
     "output_type": "execute_result"
    }
   ],
   "source": [
    "flst"
   ]
  },
  {
   "cell_type": "code",
   "execution_count": 25,
   "metadata": {
    "scrolled": true
   },
   "outputs": [],
   "source": [
    "for pf in flst:\n",
    "    \n",
    "    features = []\n",
    "    file=\"\"\n",
    "    pdf = open(pf, 'rb')\n",
    "    pdfReader=PyPDF2.PdfFileReader(pdf)\n",
    "    numbers = pdfReader.numPages\n",
    "    for number in range(numbers):\n",
    "        pageObj = pdfReader.getPage(number) \n",
    "        content = pageObj.extractText()\n",
    "        file= file+content\n",
    "    pdf.close() \n",
    "    #apply function to catch\n",
    "    if syllabus_characteristics(file):\n",
    "        features.append(syllabus_characteristics(file))\n",
    "    #\n",
    "    \n",
    "    #write the features into dataframe\n",
    "    \n",
    "    features_retrieved=features_retrieved.append(features,ignore_index=True)"
   ]
  },
  {
   "cell_type": "code",
   "execution_count": 26,
   "metadata": {},
   "outputs": [
    {
     "data": {
      "text/html": [
       "<div>\n",
       "<style scoped>\n",
       "    .dataframe tbody tr th:only-of-type {\n",
       "        vertical-align: middle;\n",
       "    }\n",
       "\n",
       "    .dataframe tbody tr th {\n",
       "        vertical-align: top;\n",
       "    }\n",
       "\n",
       "    .dataframe thead th {\n",
       "        text-align: right;\n",
       "    }\n",
       "</style>\n",
       "<table border=\"1\" class=\"dataframe\">\n",
       "  <thead>\n",
       "    <tr style=\"text-align: right;\">\n",
       "      <th></th>\n",
       "      <th>name</th>\n",
       "      <th>Emails</th>\n",
       "      <th>phone number</th>\n",
       "      <th>office_hour</th>\n",
       "      <th>Schedule</th>\n",
       "      <th>assignments number</th>\n",
       "      <th>exam</th>\n",
       "      <th>prerequisite</th>\n",
       "      <th>textbook</th>\n",
       "      <th>online</th>\n",
       "    </tr>\n",
       "  </thead>\n",
       "  <tbody>\n",
       "    <tr>\n",
       "      <th>0</th>\n",
       "      <td>Derick Jones</td>\n",
       "      <td>das@safh.com</td>\n",
       "      <td>209-946-3221</td>\n",
       "      <td>Sunday</td>\n",
       "      <td>6:00\\n-8:00 pm</td>\n",
       "      <td>5 assignments</td>\n",
       "      <td>No</td>\n",
       "      <td>No</td>\n",
       "      <td>No</td>\n",
       "      <td>Yes</td>\n",
       "    </tr>\n",
       "    <tr>\n",
       "      <th>1</th>\n",
       "      <td>Lance Jones</td>\n",
       "      <td>das@safh.com</td>\n",
       "      <td>no searches</td>\n",
       "      <td>Sunday</td>\n",
       "      <td>6:00\\n-8:00 pm</td>\n",
       "      <td>55 assignments</td>\n",
       "      <td>No</td>\n",
       "      <td>No</td>\n",
       "      <td>No</td>\n",
       "      <td>No</td>\n",
       "    </tr>\n",
       "    <tr>\n",
       "      <th>2</th>\n",
       "      <td>David Jones</td>\n",
       "      <td>das@safh.com</td>\n",
       "      <td>2099463221</td>\n",
       "      <td>Sunday</td>\n",
       "      <td>6:00\\n-8:00 pm</td>\n",
       "      <td>5 assignments</td>\n",
       "      <td>No</td>\n",
       "      <td>Yes</td>\n",
       "      <td>Yes</td>\n",
       "      <td>Yes</td>\n",
       "    </tr>\n",
       "  </tbody>\n",
       "</table>\n",
       "</div>"
      ],
      "text/plain": [
       "           name        Emails  phone number office_hour        Schedule  \\\n",
       "0  Derick Jones  das@safh.com  209-946-3221      Sunday  6:00\\n-8:00 pm   \n",
       "1   Lance Jones  das@safh.com   no searches      Sunday  6:00\\n-8:00 pm   \n",
       "2   David Jones  das@safh.com    2099463221      Sunday  6:00\\n-8:00 pm   \n",
       "\n",
       "  assignments number exam prerequisite textbook online  \n",
       "0      5 assignments   No           No       No    Yes  \n",
       "1     55 assignments   No           No       No     No  \n",
       "2      5 assignments   No          Yes      Yes    Yes  "
      ]
     },
     "execution_count": 26,
     "metadata": {},
     "output_type": "execute_result"
    }
   ],
   "source": [
    "features_retrieved"
   ]
  },
  {
   "cell_type": "markdown",
   "metadata": {},
   "source": [
    "## Save dataframe as .csv file"
   ]
  },
  {
   "cell_type": "code",
   "execution_count": 10,
   "metadata": {},
   "outputs": [],
   "source": [
    "features_retrieved.to_csv(\"features-retrieved.csv\")"
   ]
  },
  {
   "cell_type": "code",
   "execution_count": null,
   "metadata": {},
   "outputs": [],
   "source": []
  }
 ],
 "metadata": {
  "kernelspec": {
   "display_name": "Python 3",
   "language": "python",
   "name": "python3"
  },
  "language_info": {
   "codemirror_mode": {
    "name": "ipython",
    "version": 3
   },
   "file_extension": ".py",
   "mimetype": "text/x-python",
   "name": "python",
   "nbconvert_exporter": "python",
   "pygments_lexer": "ipython3",
   "version": "3.6.13"
  }
 },
 "nbformat": 4,
 "nbformat_minor": 4
}
